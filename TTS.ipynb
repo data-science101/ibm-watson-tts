{
 "cells": [
  {
   "cell_type": "markdown",
   "id": "00c0438e-1634-489e-81ea-15ecaa1d095e",
   "metadata": {},
   "source": [
    "# Text to Speech using IBM Watson API"
   ]
  },
  {
   "cell_type": "markdown",
   "id": "510bcd65-65b7-49c1-9d82-48fedd3161aa",
   "metadata": {},
   "source": [
    "### We will create a TTS that reproduces audio from text and files.\n",
    "API Doc: https://cloud.ibm.com/apidocs/text-to-speech"
   ]
  },
  {
   "cell_type": "code",
   "execution_count": null,
   "id": "d78985f6-73ed-46aa-80c2-c1147ce634a5",
   "metadata": {},
   "outputs": [],
   "source": [
    "#Installing ibm-watson on Jupyter\n",
    "!pip install --upgrade ibm-watson"
   ]
  },
  {
   "cell_type": "code",
   "execution_count": 8,
   "id": "602c1941-fc1e-4a2a-b83e-f272eee31db8",
   "metadata": {},
   "outputs": [],
   "source": [
    "#Importing stuff\n",
    "from ibm_watson import TextToSpeechV1\n",
    "from ibm_cloud_sdk_core.authenticators import IAMAuthenticator"
   ]
  },
  {
   "cell_type": "code",
   "execution_count": 9,
   "id": "447660f0-e2ad-4b74-a4e2-a6324f7829a0",
   "metadata": {},
   "outputs": [],
   "source": [
    "#Setting API Key and URL\n",
    "#You can get yours by loggin into your IBM Cloud account: https://cloud.ibm.com/services/text-to-speech\n",
    "apikey = 'YourApiKey'\n",
    "url = 'YourURL'"
   ]
  },
  {
   "cell_type": "code",
   "execution_count": 16,
   "id": "dea8e311-5570-483c-a723-2bae10d0f57f",
   "metadata": {},
   "outputs": [],
   "source": [
    "#Authenticating\n",
    "authenticator = IAMAuthenticator(apikey)\n",
    "tts = TextToSpeechV1(authenticator=authenticator)\n",
    "tts.set_service_url(url)"
   ]
  },
  {
   "cell_type": "markdown",
   "id": "bdaac45c-310f-4e6e-8168-eded0ee17b8b",
   "metadata": {},
   "source": [
    "## From text"
   ]
  },
  {
   "cell_type": "code",
   "execution_count": null,
   "id": "e76a37fb-a95b-46fc-b337-dff0e9dc2e58",
   "metadata": {},
   "outputs": [],
   "source": [
    "#Creating and saving a file called test.mp3 that reproduces the audio of the res variable\n",
    "#You can change the voice to another person searching some options on the API Doc\n",
    "with open ('test.mp3', 'wb') as audio_file:\n",
    "    res = tts.synthesize('Hello world!', accept = 'audio/mp3', voice = 'US_MichaelV3Voice').get_result()\n",
    "    audio_file.write(res.content)"
   ]
  },
  {
   "cell_type": "markdown",
   "id": "d5390fa4-8bf5-4b7e-b2c1-c74b016d56dd",
   "metadata": {},
   "source": [
    "## From File"
   ]
  },
  {
   "cell_type": "code",
   "execution_count": 43,
   "id": "a3ee1def-141b-40cf-be0c-5b075a5eb8f1",
   "metadata": {},
   "outputs": [],
   "source": [
    "#Change YourFile.txt to your file name\n",
    "with open ('YouFile.txt', 'r') as f:\n",
    "    text = f.readlines()\n",
    "\n",
    "text = [line.replace('\\n', '') for line in text]\n",
    "text = ''.join(str(line) for line in text)"
   ]
  },
  {
   "cell_type": "code",
   "execution_count": 47,
   "id": "991220dc-cc02-4ee2-b3dd-3a20c68ef4ef",
   "metadata": {},
   "outputs": [],
   "source": [
    "#Saving the generated audio to your PC\n",
    "with open ('YourNewAudio.mp3', 'wb') as audio_file:\n",
    "    res = tts.synthesize(text, accept = 'audio/mp3', voice = 'en-US_MichaelV3Voice').get_result()\n",
    "    audio_file.write(res.content)"
   ]
  },
  {
   "cell_type": "markdown",
   "id": "721ff313-ade0-42d9-abf2-d852991f2668",
   "metadata": {},
   "source": [
    "### That's it, have fun :)"
   ]
  },
  {
   "cell_type": "code",
   "execution_count": null,
   "id": "da457af3-a58f-4d98-8814-027165d64f0c",
   "metadata": {},
   "outputs": [],
   "source": []
  }
 ],
 "metadata": {
  "kernelspec": {
   "display_name": "Python 3 (ipykernel)",
   "language": "python",
   "name": "python3"
  },
  "language_info": {
   "codemirror_mode": {
    "name": "ipython",
    "version": 3
   },
   "file_extension": ".py",
   "mimetype": "text/x-python",
   "name": "python",
   "nbconvert_exporter": "python",
   "pygments_lexer": "ipython3",
   "version": "3.9.12"
  }
 },
 "nbformat": 4,
 "nbformat_minor": 5
}
